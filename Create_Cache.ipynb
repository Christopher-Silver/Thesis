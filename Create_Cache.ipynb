{
  "nbformat": 4,
  "nbformat_minor": 0,
  "metadata": {
    "colab": {
      "provenance": []
    },
    "kernelspec": {
      "name": "python3",
      "display_name": "Python 3"
    },
    "language_info": {
      "name": "python"
    }
  },
  "cells": [
    {
      "cell_type": "markdown",
      "source": [
        "# Initialization"
      ],
      "metadata": {
        "id": "m2lWKlsNm4uh"
      }
    },
    {
      "cell_type": "code",
      "execution_count": null,
      "metadata": {
        "colab": {
          "base_uri": "https://localhost:8080/"
        },
        "id": "Y5yZU0xyw6f0",
        "outputId": "7f233601-c8a6-4dba-e89d-afe57a1a7a92"
      },
      "outputs": [
        {
          "output_type": "stream",
          "name": "stdout",
          "text": [
            "Mounted at /content/drive\n"
          ]
        }
      ],
      "source": [
        "from google.colab import drive\n",
        "drive.mount('/content/drive', force_remount=True)\n",
        "\n",
        "import os\n",
        "import numpy as np\n",
        "from tensorflow.keras.preprocessing.image import load_img, img_to_array"
      ]
    },
    {
      "cell_type": "markdown",
      "source": [
        "# Training Cache"
      ],
      "metadata": {
        "id": "2PHbPLfBmzj7"
      }
    },
    {
      "cell_type": "code",
      "source": [
        "def cache_images_and_save(directory, output_file, target_size=(256, 256), color_mode='grayscale'):\n",
        "    cache = {}\n",
        "    for root, dirs, files in os.walk(directory):\n",
        "        for file in files:\n",
        "            if file.endswith('.jpg'):\n",
        "                img_path = os.path.join(root, file)\n",
        "                img = load_img(img_path, target_size=target_size, color_mode=color_mode)\n",
        "                img_array = img_to_array(img).astype('float32') / 255.0\n",
        "                cache[img_path] = img_array\n",
        "    np.savez_compressed(output_file, **cache)\n",
        "    return cache\n",
        "\n",
        "train_data_dir = '/content/drive/MyDrive/TF66_Colour/Train/'\n",
        "\n",
        "train_cache_file = 'cache_train.npz'\n",
        "\n",
        "# Cache and save the images\n",
        "train_cache = cache_images_and_save(train_data_dir, train_cache_file)"
      ],
      "metadata": {
        "id": "YyLlzbBzxM49"
      },
      "execution_count": null,
      "outputs": []
    },
    {
      "cell_type": "markdown",
      "source": [
        "# Validation Cache"
      ],
      "metadata": {
        "id": "P1hssnDSm1dZ"
      }
    },
    {
      "cell_type": "code",
      "source": [
        "def cache_images_and_save(directory, output_file, target_size=(256, 256), color_mode='grayscale'):\n",
        "    cache = {}\n",
        "    for root, dirs, files in os.walk(directory):\n",
        "        for file in files:\n",
        "            if file.endswith('.jpg'):\n",
        "                img_path = os.path.join(root, file)\n",
        "                img = load_img(img_path, target_size=target_size, color_mode=color_mode)\n",
        "                img_array = img_to_array(img).astype('float32') / 255.0\n",
        "                cache[img_path] = img_array\n",
        "    np.savez_compressed(output_file, **cache)\n",
        "    return cache\n",
        "\n",
        "val_data_dir = '/content/drive/MyDrive/TF66_Colour/Validation/'\n",
        "\n",
        "val_cache_file = 'cache_val.npz'\n",
        "\n",
        "val_cache = cache_images_and_save(val_data_dir, val_cache_file)"
      ],
      "metadata": {
        "id": "c8SDYDRem9Tg"
      },
      "execution_count": null,
      "outputs": []
    }
  ]
}
